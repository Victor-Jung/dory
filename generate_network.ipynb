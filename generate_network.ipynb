{
 "cells": [
  {
   "cell_type": "code",
   "execution_count": 1,
   "metadata": {},
   "outputs": [
    {
     "name": "stdout",
     "output_type": "stream",
     "text": [
      "Using NEMO as frontend. Targeting GAP8 platform. \n",
      "Using dory_examples/config_files/../examples/Transformer/model_mod_true_true.onnx target input onnx.\n",
      "\n",
      "Creating Original_graph.onnx in logs/Frontend/onnx_files/\n",
      "Creating Original_graph.json in logs/Frontend/json_files/\n",
      "\n",
      "##################################\n",
      "## DORY GENERAL PARSING OF ONNX ##\n",
      "## FINAL RAPRESENTATION:DORY IR ##\n",
      "##################################\n",
      "\n",
      "Parsing ONNX Graph to create DORY graph.\n",
      "Creating 00_DORY_raw_graph.json in logs/Frontend/json_files/\n",
      "Creating 00_DORY_raw_graph.onnx in logs/Frontend/onnx_files/\n",
      "\n",
      "Embedding constant nodes inside nodes to which the tensors belong.\n",
      "Creating 01_DORY_graph_constants_removed.json in logs/Frontend/json_files/\n",
      "Creating 01_DORY_graph_constants_removed.onnx in logs/Frontend/onnx_files/\n",
      "\n",
      "NEMO Frontend: Matching patterns from generated ONNX to DORY.\n",
      "\n",
      "NEMO Frontend: Updating Add nodes with constants.\n",
      "Creating 02_DORY_mapped_graph.json in logs/Frontend/json_files/\n",
      "Creating 02_DORY_mapped_graph.onnx in logs/Frontend/onnx_files/\n",
      "\n",
      "NEMO Frontend: Adding Bit and Types to Nodes.\n",
      "Creating 03_DORY_graph_with_node_precision.json in logs/Frontend/json_files/\n",
      "Creating 03_DORY_graph_with_node_precision.onnx in logs/Frontend/onnx_files/\n",
      "\n",
      "DORY generic Frontend. Updating branches pointers.\n",
      "Creating 04_DORY_updated_branches.json in logs/Frontend/json_files/\n",
      "Creating 04_DORY_updated_branches.onnx in logs/Frontend/onnx_files/\n",
      "\n",
      "NEMO Frontend: Adding Data Layout.\n",
      "Creating 05_DORY_Frontend_final_graph.json in logs/Frontend/json_files/\n",
      "Creating 05_DORY_Frontend_final_graph.onnx in logs/Frontend/onnx_files/\n",
      "\n",
      "DORY checking of the graph: OK\n",
      "\n"
     ]
    }
   ],
   "source": [
    "# Libraries\n",
    "import argparse\n",
    "import os.path\n",
    "from argparse import RawTextHelpFormatter\n",
    "import json\n",
    "import sys\n",
    "import importlib\n",
    "\n",
    "# Directory\n",
    "Frontends = [\"NEMO\", \"Quantlab\"]\n",
    "Hardware_targets = [\"GAP8\", \"nnx\", \"Occamy\", \"Diana\"]\n",
    "NoneType = type(None)\n",
    "frontend = 'Quantlab'\n",
    "frontend = 'NEMO'\n",
    "hardware_target = 'GAP8'\n",
    "#config_file = 'dory_examples/config_files/config_Quantlab_MV1_8bits.json'\n",
    "config_file = 'dory_examples/config_files/config_NEMO_test.json'\n",
    "config_file = 'dory_examples/config_files/config_NEMO_transformer.json'\n",
    "#config_file = 'dory_examples/config_files/config_NEMO_Penguinet.json'\n",
    "#config_file = 'dory_examples/config_files/config_NEMO_Residual_Connection_test_1.json'\n",
    "verbose_level = 'Check_all+Perf_final'\n",
    "perf_layer = 'No'\n",
    "optional = 'auto'\n",
    "app_dir = './application'\n",
    "#############################################################\n",
    "#### DORY FRONTEND --> From ONNX TO JSON FORMAT OF ALL NODES.\n",
    "#############################################################\n",
    "\n",
    "print(f\"Using {frontend} as frontend. Targeting {hardware_target} platform. \")\n",
    "## Reading the json configuration file\n",
    "json_configuration_file_root = os.path.dirname(config_file)\n",
    "with open(config_file) as f:\n",
    "    json_configuration_file = json.load(f)\n",
    "\n",
    "## Reading the onnx file\n",
    "onnx_file = os.path.join(os.path.dirname(config_file), json_configuration_file[\"onnx_file\"])\n",
    "print(f\"Using {onnx_file} target input onnx.\\n\")\n",
    "## Including and running the transformation from Onnx to a DORY compatible graph\n",
    "\n",
    "onnx_manager = importlib.import_module(f'Frontend-frameworks.{frontend}.Parser')\n",
    "onnx_to_DORY = onnx_manager.onnx_manager\n",
    "DORY_Graph = onnx_to_DORY(onnx_file, json_configuration_file).full_graph_parsing()"
   ]
  },
  {
   "cell_type": "code",
   "execution_count": 2,
   "metadata": {},
   "outputs": [
    {
     "name": "stdout",
     "output_type": "stream",
     "text": [
      "Convolution\n",
      "BN\n",
      "Convolution\n",
      "BN\n"
     ]
    }
   ],
   "source": [
    "for i in range(len(DORY_Graph)):\n",
    "    print(DORY_Graph[i].name)\n"
   ]
  },
  {
   "cell_type": "code",
   "execution_count": 3,
   "metadata": {},
   "outputs": [
    {
     "ename": "ModuleNotFoundError",
     "evalue": "No module named 'ortools'",
     "output_type": "error",
     "traceback": [
      "\u001b[0;31m---------------------------------------------------------------------------\u001b[0m",
      "\u001b[0;31mModuleNotFoundError\u001b[0m                       Traceback (most recent call last)",
      "\u001b[1;32m/home/victor/Documents/ETH/dory/generate_network.ipynb Cell 3'\u001b[0m in \u001b[0;36m<cell line: 2>\u001b[0;34m()\u001b[0m\n\u001b[1;32m      <a href='vscode-notebook-cell:/home/victor/Documents/ETH/dory/generate_network.ipynb#ch0000002?line=0'>1</a>\u001b[0m \u001b[39m## Including and running the transformation from DORY IR to DORY HW IR\u001b[39;00m\n\u001b[0;32m----> <a href='vscode-notebook-cell:/home/victor/Documents/ETH/dory/generate_network.ipynb#ch0000002?line=1'>2</a>\u001b[0m onnx_manager \u001b[39m=\u001b[39m importlib\u001b[39m.\u001b[39;49mimport_module(\u001b[39mf\u001b[39;49m\u001b[39m'\u001b[39;49m\u001b[39mHardware-targets.\u001b[39;49m\u001b[39m{\u001b[39;49;00mhardware_target\u001b[39m}\u001b[39;49;00m\u001b[39m.HW_Parser\u001b[39;49m\u001b[39m'\u001b[39;49m)\n\u001b[1;32m      <a href='vscode-notebook-cell:/home/victor/Documents/ETH/dory/generate_network.ipynb#ch0000002?line=2'>3</a>\u001b[0m DORY_to_DORY_HW \u001b[39m=\u001b[39m onnx_manager\u001b[39m.\u001b[39monnx_manager\n\u001b[1;32m      <a href='vscode-notebook-cell:/home/victor/Documents/ETH/dory/generate_network.ipynb#ch0000002?line=3'>4</a>\u001b[0m DORY_Graph \u001b[39m=\u001b[39m DORY_to_DORY_HW(DORY_Graph, json_configuration_file, json_configuration_file_root)\u001b[39m.\u001b[39mfull_graph_parsing()\n",
      "File \u001b[0;32m/usr/lib/python3.8/importlib/__init__.py:127\u001b[0m, in \u001b[0;36mimport_module\u001b[0;34m(name, package)\u001b[0m\n\u001b[1;32m    125\u001b[0m             \u001b[39mbreak\u001b[39;00m\n\u001b[1;32m    126\u001b[0m         level \u001b[39m+\u001b[39m\u001b[39m=\u001b[39m \u001b[39m1\u001b[39m\n\u001b[0;32m--> 127\u001b[0m \u001b[39mreturn\u001b[39;00m _bootstrap\u001b[39m.\u001b[39;49m_gcd_import(name[level:], package, level)\n",
      "File \u001b[0;32m<frozen importlib._bootstrap>:1014\u001b[0m, in \u001b[0;36m_gcd_import\u001b[0;34m(name, package, level)\u001b[0m\n",
      "File \u001b[0;32m<frozen importlib._bootstrap>:991\u001b[0m, in \u001b[0;36m_find_and_load\u001b[0;34m(name, import_)\u001b[0m\n",
      "File \u001b[0;32m<frozen importlib._bootstrap>:975\u001b[0m, in \u001b[0;36m_find_and_load_unlocked\u001b[0;34m(name, import_)\u001b[0m\n",
      "File \u001b[0;32m<frozen importlib._bootstrap>:671\u001b[0m, in \u001b[0;36m_load_unlocked\u001b[0;34m(spec)\u001b[0m\n",
      "File \u001b[0;32m<frozen importlib._bootstrap_external>:848\u001b[0m, in \u001b[0;36mexec_module\u001b[0;34m(self, module)\u001b[0m\n",
      "File \u001b[0;32m<frozen importlib._bootstrap>:219\u001b[0m, in \u001b[0;36m_call_with_frames_removed\u001b[0;34m(f, *args, **kwds)\u001b[0m\n",
      "File \u001b[0;32m/storage/ETH/dory/Hardware-targets/GAP8/HW_Parser.py:30\u001b[0m, in \u001b[0;36m<module>\u001b[0;34m\u001b[0m\n\u001b[1;32m     28\u001b[0m \u001b[39mfrom\u001b[39;00m \u001b[39mParsers\u001b[39;00m\u001b[39m.\u001b[39;00m\u001b[39mParser_DORY_to_HW\u001b[39;00m \u001b[39mimport\u001b[39;00m Parser_DORY_to_HW\n\u001b[1;32m     29\u001b[0m \u001b[39mfrom\u001b[39;00m \u001b[39m.\u001b[39;00m\u001b[39mHW_Pattern_rewriter\u001b[39;00m \u001b[39mimport\u001b[39;00m Pattern_rewriter\n\u001b[0;32m---> 30\u001b[0m \u001b[39mfrom\u001b[39;00m \u001b[39m.\u001b[39;00m\u001b[39mTiler\u001b[39;00m\u001b[39m.\u001b[39;00m\u001b[39mtiler\u001b[39;00m \u001b[39mimport\u001b[39;00m Tiler\n\u001b[1;32m     32\u001b[0m \u001b[39m# Directory\u001b[39;00m\n\u001b[1;32m     33\u001b[0m file_path \u001b[39m=\u001b[39m \u001b[39m\"\u001b[39m\u001b[39m/\u001b[39m\u001b[39m\"\u001b[39m\u001b[39m.\u001b[39mjoin(os\u001b[39m.\u001b[39mpath\u001b[39m.\u001b[39mrealpath(\u001b[39m__file__\u001b[39m)\u001b[39m.\u001b[39msplit(\u001b[39m\"\u001b[39m\u001b[39m/\u001b[39m\u001b[39m\"\u001b[39m)[:\u001b[39m-\u001b[39m\u001b[39m1\u001b[39m])\n",
      "File \u001b[0;32m/storage/ETH/dory/Hardware-targets/GAP8/Tiler/tiler.py:22\u001b[0m, in \u001b[0;36m<module>\u001b[0;34m\u001b[0m\n\u001b[0;32m---> 22\u001b[0m \u001b[39mfrom\u001b[39;00m \u001b[39m.\u001b[39;00m\u001b[39mtiler_conv2d\u001b[39;00m \u001b[39mimport\u001b[39;00m Tiler_Conv2D\n\u001b[1;32m     23\u001b[0m \u001b[39mfrom\u001b[39;00m \u001b[39m.\u001b[39;00m\u001b[39mtiler_pool2d\u001b[39;00m \u001b[39mimport\u001b[39;00m Tiler_Pool2D\n\u001b[1;32m     24\u001b[0m \u001b[39mfrom\u001b[39;00m \u001b[39m.\u001b[39;00m\u001b[39mtiler_add\u001b[39;00m \u001b[39mimport\u001b[39;00m Tiler_Add\n",
      "File \u001b[0;32m/storage/ETH/dory/Hardware-targets/GAP8/Tiler/tiler_conv2d.py:28\u001b[0m, in \u001b[0;36m<module>\u001b[0;34m\u001b[0m\n\u001b[1;32m     26\u001b[0m \u001b[39mimport\u001b[39;00m \u001b[39mos\u001b[39;00m\n\u001b[1;32m     27\u001b[0m \u001b[39mimport\u001b[39;00m \u001b[39msys\u001b[39;00m\n\u001b[0;32m---> 28\u001b[0m \u001b[39mfrom\u001b[39;00m \u001b[39mortools\u001b[39;00m\u001b[39m.\u001b[39;00m\u001b[39mconstraint_solver\u001b[39;00m \u001b[39mimport\u001b[39;00m pywrapcp\n\u001b[1;32m     29\u001b[0m \u001b[39mfrom\u001b[39;00m \u001b[39mortools\u001b[39;00m\u001b[39m.\u001b[39;00m\u001b[39mconstraint_solver\u001b[39;00m \u001b[39mimport\u001b[39;00m solver_parameters_pb2\n\u001b[1;32m     31\u001b[0m \u001b[39mclass\u001b[39;00m \u001b[39mTiler_Conv2D\u001b[39;00m():\n\u001b[1;32m     32\u001b[0m     \u001b[39m# Class to generate the Tiling of the layer.\u001b[39;00m\n",
      "\u001b[0;31mModuleNotFoundError\u001b[0m: No module named 'ortools'"
     ]
    }
   ],
   "source": [
    "\n",
    "## Including and running the transformation from DORY IR to DORY HW IR\n",
    "onnx_manager = importlib.import_module(f'Hardware-targets.{hardware_target}.HW_Parser')\n",
    "DORY_to_DORY_HW = onnx_manager.onnx_manager\n",
    "DORY_Graph = DORY_to_DORY_HW(DORY_Graph, json_configuration_file, json_configuration_file_root).full_graph_parsing()\n",
    "\n"
   ]
  },
  {
   "cell_type": "code",
   "execution_count": null,
   "metadata": {},
   "outputs": [
    {
     "name": "stdout",
     "output_type": "stream",
     "text": [
      "BNConvolution\n",
      "BNConvolution\n"
     ]
    }
   ],
   "source": [
    "for i in range(len(DORY_Graph)):\n",
    "    print(DORY_Graph[i].name)\n"
   ]
  },
  {
   "cell_type": "code",
   "execution_count": null,
   "metadata": {},
   "outputs": [
    {
     "name": "stdout",
     "output_type": "stream",
     "text": [
      "#####################################################\n",
      "## DORY GENERAL PARSING FROM DORY HW IR TO C FILES ##\n",
      "## FINAL RAPRESENTATION: COMPILABLE C PROJECT      ##\n",
      "#####################################################\n",
      "\n",
      "Generating the .c file of the network.\n",
      "\n",
      "Generating the Makefile.\n",
      "\n",
      "Mapping the layers files to their templates and copying the kernels associated.\n",
      "\n",
      "Copying Utils.\n",
      "\n",
      "Generating .hex weight files.\n",
      "\n",
      "Generating .hex input file.\n"
     ]
    }
   ],
   "source": [
    "## Deployment of the model on the target architecture\n",
    "onnx_manager = importlib.import_module(f'Hardware-targets.{hardware_target}.C_Parser')\n",
    "DORY_HW_to_C = onnx_manager.C_Parser\n",
    "DORY_Graph = DORY_HW_to_C(DORY_Graph, json_configuration_file, json_configuration_file_root,\n",
    "                            verbose_level, perf_layer, optional, app_dir).full_graph_parsing()"
   ]
  },
  {
   "cell_type": "code",
   "execution_count": null,
   "metadata": {},
   "outputs": [],
   "source": []
  }
 ],
 "metadata": {
  "kernelspec": {
   "display_name": "Python 3.8.10 64-bit",
   "language": "python",
   "name": "python3"
  },
  "language_info": {
   "codemirror_mode": {
    "name": "ipython",
    "version": 3
   },
   "file_extension": ".py",
   "mimetype": "text/x-python",
   "name": "python",
   "nbconvert_exporter": "python",
   "pygments_lexer": "ipython3",
   "version": "3.8.10"
  },
  "orig_nbformat": 4,
  "vscode": {
   "interpreter": {
    "hash": "5b3ded1ccb95c1d9bd405e7b823d9e85424cde40fbb5985eb47e999ef50e15b4"
   }
  }
 },
 "nbformat": 4,
 "nbformat_minor": 2
}
